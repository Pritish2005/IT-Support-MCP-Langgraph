{
 "cells": [
  {
   "cell_type": "code",
   "execution_count": null,
   "id": "b7a13487",
   "metadata": {},
   "outputs": [],
   "source": [
    "from typing import Annotated, Sequence, TypedDict, Literal\n",
    "from langchain_core.messages import BaseMessage\n",
    "from langgraph.graph.message import add_messages\n",
    "from langgraph.graph import StateGraph, END, START\n"
   ]
  },
  {
   "cell_type": "code",
   "execution_count": 27,
   "id": "f5a8426c",
   "metadata": {},
   "outputs": [],
   "source": [
    "class AgentState(TypedDict, total=False):\n",
    "    messages: Annotated[Sequence[BaseMessage], add_messages]"
   ]
  },
  {
   "cell_type": "code",
   "execution_count": 28,
   "id": "f7179e09",
   "metadata": {},
   "outputs": [],
   "source": [
    "def handle_query(state: AgentState) -> str:\n",
    "    return \"this is a tool node\"\n",
    "\n",
    "def tools_node(state: AgentState) -> str:\n",
    "    return \"this is a tool node\"\n",
    "\n",
    "def get_new_query(state: AgentState) -> str:\n",
    "    return \"this is a tool node\"\n",
    "\n",
    "def escalate_to_gmail(state: AgentState) -> str:\n",
    "    return \"this is a tool node\"\n",
    "\n",
    "def end_state(state: AgentState) -> str:\n",
    "    return \"this is a tool node\""
   ]
  },
  {
   "cell_type": "code",
   "execution_count": 29,
   "id": "f201c8bc",
   "metadata": {},
   "outputs": [],
   "source": [
    "def should_continue(state: AgentState) -> Literal[\"end\", \"continue\"]:\n",
    "    return \"continue\"\n",
    "\n",
    "def ask_another_query(state: AgentState) -> Literal[\"ask\", \"no\"]:\n",
    "    return \"ask\"\n",
    "\n",
    "def ask_was_helpful(state: AgentState) -> Literal[\"end\", \"continue\"]:\n",
    "    return \"continue\"\n",
    "\n",
    "def ask_escalate(state: AgentState) -> Literal[\"end\", \"continue\"]:\n",
    "    return \"continue\""
   ]
  },
  {
   "cell_type": "code",
   "execution_count": 30,
   "id": "7f6a8b14",
   "metadata": {},
   "outputs": [],
   "source": [
    "graph = StateGraph(AgentState)"
   ]
  },
  {
   "cell_type": "code",
   "execution_count": 31,
   "id": "3f60cda7",
   "metadata": {},
   "outputs": [
    {
     "data": {
      "text/plain": [
       "<langgraph.graph.state.StateGraph at 0x230b5bc1d00>"
      ]
     },
     "execution_count": 31,
     "metadata": {},
     "output_type": "execute_result"
    }
   ],
   "source": [
    "graph.add_node(\"handle_query\", handle_query)\n",
    "graph.add_node(\"tool_execution\", tools_node)\n",
    "graph.add_node(\"ask_another\", ask_another_query)\n",
    "graph.add_node(\"get_query\", get_new_query)\n",
    "graph.add_node(\"ask_was_helpful\", ask_was_helpful)\n",
    "graph.add_node(\"ask_escalate\", ask_escalate)\n",
    "graph.add_node(\"escalate\", escalate_to_gmail)\n",
    "graph.add_node(\"end\", end_state)"
   ]
  },
  {
   "cell_type": "code",
   "execution_count": 32,
   "id": "c0fdeeaf",
   "metadata": {},
   "outputs": [
    {
     "data": {
      "text/plain": [
       "<langgraph.graph.state.StateGraph at 0x230b5bc1d00>"
      ]
     },
     "execution_count": 32,
     "metadata": {},
     "output_type": "execute_result"
    }
   ],
   "source": [
    "graph.add_node(\"router0\", lambda state: state)\n",
    "graph.add_node(\"router1\", lambda state: state)\n",
    "graph.add_node(\"router2\", lambda state: state)"
   ]
  },
  {
   "cell_type": "code",
   "execution_count": 33,
   "id": "2f7896ac",
   "metadata": {},
   "outputs": [],
   "source": [
    "graph.set_entry_point(\"handle_query\")\n",
    "\n",
    "graph.add_conditional_edges(\n",
    "    \"handle_query\",\n",
    "    should_continue,\n",
    "    {\n",
    "        \"continue\": \"tool_execution\",\n",
    "        \"end\": \"router0\",\n",
    "    }\n",
    ")\n",
    "\n",
    "graph.add_edge(\"tool_execution\", \"router0\")\n",
    "\n",
    "graph.add_conditional_edges(\n",
    "    \"router0\",\n",
    "    ask_another_query,\n",
    "    {\n",
    "        \"ask\": \"get_query\",\n",
    "        \"no\": \"router1\",\n",
    "    }\n",
    ")\n",
    "\n",
    "graph.add_edge(\"get_query\", \"handle_query\")\n",
    "\n",
    "graph.add_conditional_edges(\n",
    "    \"router1\",\n",
    "    ask_was_helpful,\n",
    "    {\n",
    "        \"end\": \"end\",\n",
    "        \"continue\": \"router2\",\n",
    "    }\n",
    ")\n",
    "\n",
    "graph.add_conditional_edges(\n",
    "    \"router2\",\n",
    "    ask_escalate,\n",
    "    {\n",
    "        \"end\": \"end\",\n",
    "        \"continue\": \"escalate\",\n",
    "    }\n",
    ")\n",
    "\n",
    "graph.add_edge(\"escalate\", \"end\")\n",
    "graph.add_edge(\"end\", END)\n",
    "\n",
    "app = graph.compile()"
   ]
  },
  {
   "cell_type": "code",
   "execution_count": 40,
   "id": "f6581afb",
   "metadata": {},
   "outputs": [
    {
     "name": "stdout",
     "output_type": "stream",
     "text": [
      "You likely need to install dependencies for pygraphviz, see more here https://github.com/pygraphviz/pygraphviz/blob/main/INSTALL.txt\n"
     ]
    }
   ],
   "source": [
    "from IPython.display import Image, display\n",
    "from langchain_core.runnables.graph import CurveStyle, MermaidDrawMethod, NodeStyles\n",
    "\n",
    "\n",
    "try:\n",
    "    display(Image(app.get_graph().draw_png()))\n",
    "except ImportError:\n",
    "    print(\n",
    "        \"You likely need to install dependencies for pygraphviz, see more here https://github.com/pygraphviz/pygraphviz/blob/main/INSTALL.txt\"\n",
    "    )"
   ]
  }
 ],
 "metadata": {
  "kernelspec": {
   "display_name": "Python 3",
   "language": "python",
   "name": "python3"
  },
  "language_info": {
   "codemirror_mode": {
    "name": "ipython",
    "version": 3
   },
   "file_extension": ".py",
   "mimetype": "text/x-python",
   "name": "python",
   "nbconvert_exporter": "python",
   "pygments_lexer": "ipython3",
   "version": "3.13.2"
  }
 },
 "nbformat": 4,
 "nbformat_minor": 5
}
